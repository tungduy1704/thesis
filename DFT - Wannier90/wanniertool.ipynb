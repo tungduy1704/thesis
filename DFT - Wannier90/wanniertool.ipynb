{
 "cells": [
  {
   "cell_type": "code",
   "execution_count": null,
   "id": "35ee59e9",
   "metadata": {},
   "outputs": [],
   "source": [
    "from woptic import Hamiltonian\n",
    "h = Hamiltonian.from_wannier90(path='.', prefix='mos2')\n",
    "\n",
    "# Trích đạo hàm của Hamiltonian theo kx tại điểm k\n",
    "H_kx = h.deriv(k=[0.0, 0.0, 0.0], direction='x')\n"
   ]
  }
 ],
 "metadata": {
  "language_info": {
   "name": "python"
  }
 },
 "nbformat": 4,
 "nbformat_minor": 5
}
